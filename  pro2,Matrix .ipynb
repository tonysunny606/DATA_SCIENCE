{
 "cells": [
  {
   "cell_type": "code",
   "execution_count": 6,
   "id": "e25bf906",
   "metadata": {},
   "outputs": [
    {
     "name": "stdout",
     "output_type": "stream",
     "text": [
      "ADD: \n",
      "[[ 6  8]\n",
      " [10 12]]\n",
      "\n",
      "\n",
      "SUBSTRACTION:\n",
      "[[-4 -4]\n",
      " [-4 -4]]\n",
      "\n",
      "\n",
      "MULTIPLICATION  :\n",
      "[[ 5 12]\n",
      " [21 32]]\n",
      "\n",
      "\n",
      "MATRIX_MULTIPLICATION  :\n",
      "[[19 22]\n",
      " [43 50]]\n",
      "\n",
      "\n",
      "TRANSPOSE  :\n",
      "[[1 3]\n",
      " [2 4]]\n"
     ]
    }
   ],
   "source": [
    "#matrix operation\n",
    "import numpy as np\n",
    "#create matrix\n",
    "A=np.array([[1,2],[3,4]])\n",
    "B=np.array([[5,6],[7,8]])\n",
    "#Addition\n",
    "print(\"ADD: \")\n",
    "C=A+B\n",
    "print(C)\n",
    "#substraction\n",
    "print(\"\\n\\nSUBSTRACTION:\")\n",
    "D=A-B\n",
    "print(D)\n",
    "\n",
    "#Multiplication(element-wise)\n",
    "print(\"\\n\\nMULTIPLICATION  :\")\n",
    "E=A*B\n",
    "print(E)\n",
    "#Matrix multplication\n",
    "print(\"\\n\\nMATRIX_MULTIPLICATION  :\")\n",
    "F=np.dot(A,B)# or A @ B\n",
    "print(F)\n",
    "#Transpose\n",
    "print(\"\\n\\nTRANSPOSE  :\")\n",
    "A_transpose=A.T\n",
    "print(A_transpose)\n"
   ]
  },
  {
   "cell_type": "code",
   "execution_count": null,
   "id": "0799bf41",
   "metadata": {},
   "outputs": [],
   "source": [
    "#SVD(Singular Value Decomposition)\n",
    "import numpy as np\n",
    "#create a sample materix\n",
    "X=np.array([[1,2,3],[4,5,6],[7,8,9]])\n",
    "#perform SVD\n",
    "U,S,VT=np.linalg.svd(X)\n",
    "#choose the number of components to keep\n",
    "n_components=2\n",
    "#Reconstructed the matrix with reduced dimensions\n",
    "X_reconstructed=np.dot(U[:,:n_components],np.dot(np.diag(S[:n_components]),\n",
    "VT[:n_components,:]))\n",
    "print(\"original Matrix:\");\n",
    "print(X)\n",
    "print(\"\\nReconstructed Matrix(with reduced dimension):\")\n",
    "print(X_reconstructed)"
   ]
  }
 ],
 "metadata": {
  "kernelspec": {
   "display_name": "Python 3 (ipykernel)",
   "language": "python",
   "name": "python3"
  },
  "language_info": {
   "codemirror_mode": {
    "name": "ipython",
    "version": 3
   },
   "file_extension": ".py",
   "mimetype": "text/x-python",
   "name": "python",
   "nbconvert_exporter": "python",
   "pygments_lexer": "ipython3",
   "version": "3.10.12"
  }
 },
 "nbformat": 4,
 "nbformat_minor": 5
}
