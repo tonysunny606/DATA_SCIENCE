{
 "cells": [
  {
   "cell_type": "code",
   "execution_count": 8,
   "id": "5e372f58",
   "metadata": {},
   "outputs": [
    {
     "name": "stdout",
     "output_type": "stream",
     "text": [
      "Accuracy of K-NN with k=3:100.00%\n"
     ]
    }
   ],
   "source": [
    "import numpy as np\n",
    "from sklearn.datasets import load_iris\n",
    "from sklearn.model_selection import train_test_split\n",
    "from sklearn.neighbors import KNeighborsClassifier\n",
    "from sklearn.metrics import accuracy_score\n",
    "#load the iris dataset\n",
    "data=load_iris()\n",
    "x=data.data #features\n",
    "y=data.target #target(labels)\n",
    "#split the dataset into training and testing sets \n",
    "x_train,x_test,y_train,y_test=train_test_split(x,y,test_size=0.2,random_state=42)\n",
    "#initialize the K-NN clssfire with a specified value of k\n",
    "k=3 # you have change this value as need\n",
    "knn =KNeighborsClassifier(n_neighbors=k)\n",
    "#fit the mode the tarining data\n",
    "knn.fit(x_train,y_train)\n",
    "# make preadcation on the test data\n",
    "y_pred=knn.predict(x_test)\n",
    "#caluculate the accuracy of the model\n",
    "accuracy=accuracy_score(y_test,y_pred)\n",
    "print(f'Accuracy of K-NN with k={k}:{accuracy*100:.2f}%')"
   ]
  },
  {
   "cell_type": "code",
   "execution_count": 9,
   "id": "e333043c",
   "metadata": {},
   "outputs": [
    {
     "name": "stdout",
     "output_type": "stream",
     "text": [
      "Accuracy of k-NN with k=5: 100.00%\n"
     ]
    }
   ],
   "source": [
    "import numpy as np\n",
    "from sklearn.neighbors import KNeighborsClassifier\n",
    "from sklearn.model_selection import train_test_split\n",
    "from sklearn.metrics import accuracy_score\n",
    "\n",
    "# Generate a synthetic dataset\n",
    "# Let's create a dataset with 2 features and 3 classes (similar to the Iris dataset)\n",
    "\n",
    "# Number of samples per class\n",
    "n_samples = 50\n",
    "\n",
    "# Class 0: centered at (0, 0)\n",
    "class_0 = np.random.randn(n_samples, 2) + np.array([0, 0])\n",
    "\n",
    "# Class 1: centered at (3, 3)\n",
    "class_1 = np.random.randn(n_samples, 2) + np.array([3, 3])\n",
    "\n",
    "# Class 2: centered at (0, 5)\n",
    "class_2 = np.random.randn(n_samples, 2) + np.array([0, 5])\n",
    "\n",
    "# Combine the classes to create the dataset\n",
    "X = np.vstack((class_0, class_1, class_2))\n",
    "y = np.array([0]*n_samples + [1]*n_samples + [2]*n_samples)\n",
    "\n",
    "# Split the dataset into training and testing sets\n",
    "X_train, X_test, y_train, y_test = train_test_split(X, y, test_size=0.2, random_state=42)\n",
    "\n",
    "# Initialize the k-NN algorithm classifier with a specified value of k\n",
    "k = 5  # You can change this value as needed\n",
    "knn = KNeighborsClassifier(n_neighbors=k)\n",
    "\n",
    "# Fit the model on the training data\n",
    "knn.fit(X_train, y_train)\n",
    "\n",
    "# Make the predictions on the test data\n",
    "y_pred = knn.predict(X_test)\n",
    "\n",
    "# Calculate the accuracy of the model\n",
    "accuracy = accuracy_score(y_test, y_pred)\n",
    "print(f'Accuracy of k-NN with k={k}: {accuracy*100:.2f}%')\n"
   ]
  },
  {
   "cell_type": "code",
   "execution_count": null,
   "id": "383e4d2f",
   "metadata": {},
   "outputs": [],
   "source": []
  }
 ],
 "metadata": {
  "kernelspec": {
   "display_name": "Python 3 (ipykernel)",
   "language": "python",
   "name": "python3"
  },
  "language_info": {
   "codemirror_mode": {
    "name": "ipython",
    "version": 3
   },
   "file_extension": ".py",
   "mimetype": "text/x-python",
   "name": "python",
   "nbconvert_exporter": "python",
   "pygments_lexer": "ipython3",
   "version": "3.11.4"
  }
 },
 "nbformat": 4,
 "nbformat_minor": 5
}
