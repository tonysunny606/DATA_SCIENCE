{
 "cells": [
  {
   "cell_type": "code",
   "execution_count": 8,
   "id": "68818cf5",
   "metadata": {},
   "outputs": [
    {
     "name": "stdout",
     "output_type": "stream",
     "text": [
      "Accuracy of K-NN with k=3:100.00%\n"
     ]
    }
   ],
   "source": [
    "import numpy as np\n",
    "from sklearn.datasets import load_iris\n",
    "from sklearn.model_selection import train_test_split\n",
    "from sklearn.neighbors import KNeighborsClassifier\n",
    "from sklearn.metrics import accuracy_score\n",
    "#load the iris dataset\n",
    "data=load_iris()\n",
    "x=data.data #features\n",
    "y=data.target #target(labels)\n",
    "#split the dataset into training and testing sets \n",
    "x_train,x_test,y_train,y_test=train_test_split(x,y,test_size=0.2,random_state=42)\n",
    "#initialize the K-NN clssfire with a specified value of k\n",
    "k=3 # you have change this value as need\n",
    "knn =KNeighborsClassifier(n_neighbors=k)\n",
    "#fit the mode the tarining data\n",
    "knn.fit(x_train,y_train)\n",
    "# make preadcation on the test data\n",
    "y_pred=knn.predict(x_test)\n",
    "#caluculate the accuracy of the model\n",
    "accuracy=accuracy_score(y_test,y_pred)\n",
    "print(f'Accuracy of K-NN with k={k}:{accuracy*100:.2f}%')"
   ]
  },
  {
   "cell_type": "code",
   "execution_count": null,
   "id": "12a5a0e2",
   "metadata": {},
   "outputs": [],
   "source": []
  }
 ],
 "metadata": {
  "kernelspec": {
   "display_name": "Python 3 (ipykernel)",
   "language": "python",
   "name": "python3"
  },
  "language_info": {
   "codemirror_mode": {
    "name": "ipython",
    "version": 3
   },
   "file_extension": ".py",
   "mimetype": "text/x-python",
   "name": "python",
   "nbconvert_exporter": "python",
   "pygments_lexer": "ipython3",
   "version": "3.11.4"
  }
 },
 "nbformat": 4,
 "nbformat_minor": 5
}
