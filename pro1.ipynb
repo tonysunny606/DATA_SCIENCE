{
 "cells": [
  {
   "cell_type": "code",
   "execution_count": 1,
   "id": "c0af4131",
   "metadata": {},
   "outputs": [
    {
     "name": "stdout",
     "output_type": "stream",
     "text": [
      "Enter the number:5\n",
      "120\n"
     ]
    }
   ],
   "source": [
    "n=int(input(\"Enter the number:\"))\n",
    "fact=1\n",
    "for x in range(1,n+1):\n",
    "    fact=fact*x\n",
    "print(fact)"
   ]
  },
  {
   "cell_type": "code",
   "execution_count": 24,
   "id": "c4fe9a40",
   "metadata": {},
   "outputs": [
    {
     "name": "stdout",
     "output_type": "stream",
     "text": [
      "Enter the fist number:55\n",
      "Enter the second number:55\n",
      "Addition: 110\n",
      "Subsctration 0\n",
      "Multiplication: 3025\n",
      "Division 1.0\n",
      "Enter the fist String:Tony\n",
      "Enter the Second String:sunny\n",
      "concat Tonysunny\n",
      "capital Letter: Tony\n",
      "Upper case: TONY\n",
      "Lower case letter: tony\n",
      "length of the string: 4\n",
      "%%%Tony%%%\n",
      "Tony******\n",
      "---------------sunny\n",
      "format : good Tony fine sunny that is Tony\n",
      "strip white space : Tony\n",
      "AND:    False\n",
      "OR: True\n",
      "NOT: False\n",
      "List is:  ['apple', 'bannan']\n",
      "for loop:  apple\n",
      "for loop:  bannan\n"
     ]
    }
   ],
   "source": [
    "#mathamatical operation\n",
    "n1=int(input(\"Enter the fist number:\"))\n",
    "n2=int(input(\"Enter the second number:\"))\n",
    "\n",
    "def add(n1,n2):\n",
    "    n3=n1+n2\n",
    "    print(\"Addition:\",n3)\n",
    "    \n",
    "def sub(n1,n2):\n",
    "    n3=n1-n2\n",
    "    print(\"Subsctration\",n3)\n",
    "def mul(n1,n2):\n",
    "    n3=n1*n2\n",
    "    print(\"Multiplication:\",n3)\n",
    "def div(n1,n2):\n",
    "    n3=n1/n2\n",
    "    print(\"Division\",n3)\n",
    "add(n1,n2)\n",
    "sub(n1,n2)\n",
    "mul(n1,n2)\n",
    "div(n1,n2)\n",
    "\n",
    "#string\n",
    "str1=input(\"Enter the fist String:\")\n",
    "str2=input(\"Enter the Second String:\")\n",
    "#concat\n",
    "st= str1+str2\n",
    "print(\"concat\",st)\n",
    "#capatilzed\n",
    "str3=str1.capitalize()\n",
    "print(\"capital Letter:\",str3)\n",
    "#uppercase\n",
    "str4=str1.upper()\n",
    "print(\"Upper case:\",str4)\n",
    "#lowercase\n",
    "str5=str1.lower()\n",
    "print(\"Lower case letter:\",str5)\n",
    "#length of string\n",
    "print(\"length of the string:\",len(str1))\n",
    "#center the string\n",
    "str6=str1.center(10,'%')\n",
    "print(str6)\n",
    "#jsutfiy\n",
    "str7=str1.ljust(10,'*')\n",
    "print(str7)\n",
    "str8=str2.rjust(20,'-')\n",
    "print(str8)\n",
    "#format\n",
    "print(\"format :\",f\"good {str1} fine {str2} that is {str3}\")\n",
    "#strip\n",
    "print(\"strip white space :\",str1.strip())\n",
    "#boolen\n",
    "p=True\n",
    "q=False\n",
    "print(\"AND:   \",p and q)\n",
    "print(\"OR:\",p or q)\n",
    "print(\"NOT:\",not p)\n",
    "\n",
    "#List \n",
    "list= [\"apple\",\"bannan\"]\n",
    "print(\"List is: \",list)\n",
    "#for loop\n",
    "for x in list:\n",
    "    print(\"for loop: \",x)\n",
    "    \n",
    "\n"
   ]
  },
  {
   "cell_type": "code",
   "execution_count": null,
   "id": "40ebef27",
   "metadata": {},
   "outputs": [],
   "source": []
  },
  {
   "cell_type": "code",
   "execution_count": null,
   "id": "8a4610f7",
   "metadata": {},
   "outputs": [],
   "source": []
  }
 ],
 "metadata": {
  "kernelspec": {
   "display_name": "Python 3 (ipykernel)",
   "language": "python",
   "name": "python3"
  },
  "language_info": {
   "codemirror_mode": {
    "name": "ipython",
    "version": 3
   },
   "file_extension": ".py",
   "mimetype": "text/x-python",
   "name": "python",
   "nbconvert_exporter": "python",
   "pygments_lexer": "ipython3",
   "version": "3.10.12"
  }
 },
 "nbformat": 4,
 "nbformat_minor": 5
}
